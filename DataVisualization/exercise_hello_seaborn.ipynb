{
 "cells": [
  {
   "cell_type": "code",
   "execution_count": 8,
   "metadata": {},
   "outputs": [
    {
     "ename": "ModuleNotFoundError",
     "evalue": "No module named 'learntools'",
     "output_type": "error",
     "traceback": [
      "\u001b[0;31m---------------------------------------------------------------------------\u001b[0m",
      "\u001b[0;31mModuleNotFoundError\u001b[0m                       Traceback (most recent call last)",
      "\u001b[1;32m/Users/yuna/Documents/GitHub/AcademicSemester2/DataVisualization/exercise_hello_seaborn.ipynb Cell 1\u001b[0m line \u001b[0;36m1\n\u001b[1;32m     <a href='vscode-notebook-cell:/Users/yuna/Documents/GitHub/AcademicSemester2/DataVisualization/exercise_hello_seaborn.ipynb#W0sZmlsZQ%3D%3D?line=9'>10</a>\u001b[0m \u001b[39mif\u001b[39;00m \u001b[39mnot\u001b[39;00m os\u001b[39m.\u001b[39mpath\u001b[39m.\u001b[39mexists(\u001b[39m\"\u001b[39m\u001b[39m/Users/yuna/Documents/GitHub/AcademicSemester2/resources/fifa.csv\u001b[39m\u001b[39m\"\u001b[39m):\n\u001b[1;32m     <a href='vscode-notebook-cell:/Users/yuna/Documents/GitHub/AcademicSemester2/DataVisualization/exercise_hello_seaborn.ipynb#W0sZmlsZQ%3D%3D?line=10'>11</a>\u001b[0m     os\u001b[39m.\u001b[39msymlink(\u001b[39m\"\u001b[39m\u001b[39m/Users/yuna/Documents/GitHub/AcademicSemester2/resources/fifa.csv/input/data-for-datavis/fifa.csv\u001b[39m\u001b[39m\"\u001b[39m, \u001b[39m\"\u001b[39m\u001b[39m/Users/yuna/Documents/GitHub/AcademicSemester2/resources/fifa.csv\u001b[39m\u001b[39m\"\u001b[39m)  \n\u001b[0;32m---> <a href='vscode-notebook-cell:/Users/yuna/Documents/GitHub/AcademicSemester2/DataVisualization/exercise_hello_seaborn.ipynb#W0sZmlsZQ%3D%3D?line=11'>12</a>\u001b[0m \u001b[39mfrom\u001b[39;00m \u001b[39mlearntools\u001b[39;00m\u001b[39m.\u001b[39;00m\u001b[39mcore\u001b[39;00m \u001b[39mimport\u001b[39;00m binder\n\u001b[1;32m     <a href='vscode-notebook-cell:/Users/yuna/Documents/GitHub/AcademicSemester2/DataVisualization/exercise_hello_seaborn.ipynb#W0sZmlsZQ%3D%3D?line=12'>13</a>\u001b[0m binder\u001b[39m.\u001b[39mbind(\u001b[39mglobals\u001b[39m())\n\u001b[1;32m     <a href='vscode-notebook-cell:/Users/yuna/Documents/GitHub/AcademicSemester2/DataVisualization/exercise_hello_seaborn.ipynb#W0sZmlsZQ%3D%3D?line=13'>14</a>\u001b[0m \u001b[39mfrom\u001b[39;00m \u001b[39mlearntools\u001b[39;00m\u001b[39m.\u001b[39;00m\u001b[39mdata_viz_to_coder\u001b[39;00m\u001b[39m.\u001b[39;00m\u001b[39mex1\u001b[39;00m \u001b[39mimport\u001b[39;00m \u001b[39m*\u001b[39m\n",
      "\u001b[0;31mModuleNotFoundError\u001b[0m: No module named 'learntools'"
     ]
    }
   ],
   "source": [
    "import pandas as pd\n",
    "pd.plotting.register_matplotlib_converters()\n",
    "import matplotlib.pyplot as plt\n",
    "%matplotlib inline\n",
    "import seaborn as sns\n",
    "\n",
    "\n",
    "# Set up code checking\n",
    "import os\n",
    "if not os.path.exists(\"/Users/yuna/Documents/GitHub/AcademicSemester2/resources/fifa.csv\"):\n",
    "    os.symlink(\"/Users/yuna/Documents/GitHub/AcademicSemester2/resources/fifa.csv/input/data-for-datavis/fifa.csv\", \"/Users/yuna/Documents/GitHub/AcademicSemester2/resources/fifa.csv\")  \n",
    "from learntools.core import binder\n",
    "binder.bind(globals())\n",
    "from learntools.data_viz_to_coder.ex1 import *\n",
    "print(\"Setup Complete\")"
   ]
  }
 ],
 "metadata": {
  "kernelspec": {
   "display_name": "Python 3",
   "language": "python",
   "name": "python3"
  },
  "language_info": {
   "codemirror_mode": {
    "name": "ipython",
    "version": 3
   },
   "file_extension": ".py",
   "mimetype": "text/x-python",
   "name": "python",
   "nbconvert_exporter": "python",
   "pygments_lexer": "ipython3",
   "version": "3.11.5"
  }
 },
 "nbformat": 4,
 "nbformat_minor": 2
}
